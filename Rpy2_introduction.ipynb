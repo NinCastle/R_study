{
 "cells": [
  {
   "cell_type": "markdown",
   "metadata": {},
   "source": [
    "[Rpy2](http://rpy.sourceforge.net/rpy2/doc-2.1/html/introduction.html)  \n",
    "[Rpy2 package install](https://stackoverflow.com/questions/11561258/r-python-install-packages-on-rpy2)  \n",
    "\n",
    "하기 내용은 상기 링크를 정리한것."
   ]
  },
  {
   "cell_type": "markdown",
   "metadata": {},
   "source": [
    "# Rpy2"
   ]
  },
  {
   "cell_type": "code",
   "execution_count": 2,
   "metadata": {},
   "outputs": [],
   "source": [
    "import rpy2.robjects as robjects"
   ]
  },
  {
   "cell_type": "code",
   "execution_count": 11,
   "metadata": {},
   "outputs": [
    {
     "name": "stdout",
     "output_type": "stream",
     "text": [
      "<class 'float'>\n"
     ]
    },
    {
     "data": {
      "text/plain": [
       "3.141592653589793"
      ]
     },
     "execution_count": 11,
     "metadata": {},
     "output_type": "execute_result"
    }
   ],
   "source": [
    "pi = robjects.r['pi']\n",
    "print(type(pi[0]))\n",
    "pi[0]"
   ]
  },
  {
   "cell_type": "markdown",
   "metadata": {},
   "source": [
    "### 주의\n",
    "아래와 같이 플러스를 하는 방식에 따라 출력값이 다르다."
   ]
  },
  {
   "cell_type": "code",
   "execution_count": 24,
   "metadata": {},
   "outputs": [
    {
     "name": "stdout",
     "output_type": "stream",
     "text": [
      "type :  <class 'str'>\n",
      "array :  c(3.14159265358979, 2)\n",
      "3.141592653589793 2.0\n"
     ]
    }
   ],
   "source": [
    "piplus2 = robjects.r('pi') + 2\n",
    "print('type : ', type(piplus2.r_repr()))\n",
    "print('array : ', piplus2.r_repr())\n",
    "print(piplus2[0], piplus2[1])"
   ]
  },
  {
   "cell_type": "code",
   "execution_count": 18,
   "metadata": {},
   "outputs": [
    {
     "data": {
      "text/plain": [
       "5.141592653589793"
      ]
     },
     "execution_count": 18,
     "metadata": {},
     "output_type": "execute_result"
    }
   ],
   "source": [
    "pi0plus2 = robjects.r('pi')[0] + 2\n",
    "pi0plus2"
   ]
  },
  {
   "cell_type": "markdown",
   "metadata": {},
   "source": [
    "## Vectors\n",
    "string"
   ]
  },
  {
   "cell_type": "code",
   "execution_count": 3,
   "metadata": {},
   "outputs": [
    {
     "name": "stdout",
     "output_type": "stream",
     "text": [
      "c(\"abc\", \"def\")\n"
     ]
    }
   ],
   "source": [
    "res = robjects.StrVector(['abc', 'def'])\n",
    "print(res.r_repr())"
   ]
  },
  {
   "cell_type": "markdown",
   "metadata": {},
   "source": [
    "Int"
   ]
  },
  {
   "cell_type": "code",
   "execution_count": 4,
   "metadata": {},
   "outputs": [
    {
     "data": {
      "text/plain": [
       "'1:3'"
      ]
     },
     "execution_count": 4,
     "metadata": {},
     "output_type": "execute_result"
    }
   ],
   "source": [
    "res = robjects.IntVector([1, 2, 3])\n",
    "res.r_repr()"
   ]
  },
  {
   "cell_type": "code",
   "execution_count": 5,
   "metadata": {},
   "outputs": [
    {
     "data": {
      "text/plain": [
       "'c(1L, 4L, 3L)'"
      ]
     },
     "execution_count": 5,
     "metadata": {},
     "output_type": "execute_result"
    }
   ],
   "source": [
    "res = robjects.IntVector([1, 4, 3])\n",
    "res.r_repr()"
   ]
  },
  {
   "cell_type": "markdown",
   "metadata": {},
   "source": [
    "flot"
   ]
  },
  {
   "cell_type": "code",
   "execution_count": 6,
   "metadata": {},
   "outputs": [
    {
     "data": {
      "text/plain": [
       "'c(1.1, 2.2, 3.3)'"
      ]
     },
     "execution_count": 6,
     "metadata": {},
     "output_type": "execute_result"
    }
   ],
   "source": [
    "res = robjects.FloatVector([1.1, 2.2, 3.3])\n",
    "res.r_repr()"
   ]
  },
  {
   "cell_type": "markdown",
   "metadata": {},
   "source": [
    "## Metrix"
   ]
  },
  {
   "cell_type": "code",
   "execution_count": 7,
   "metadata": {},
   "outputs": [
    {
     "name": "stdout",
     "output_type": "stream",
     "text": [
      "     [,1] [,2] [,3]\n",
      "\n",
      "[1,]  1.1  3.3  5.5\n",
      "\n",
      "[2,]  2.2  4.4  6.6\n",
      "\n"
     ]
    },
    {
     "data": {
      "text/html": [
       "\n",
       "    <span>Matrix with 6 elements.</span>\n",
       "    <table>\n",
       "      <tbody>\n",
       "      <tr>\n",
       "      \n",
       "      <td>\n",
       "        1.100000\n",
       "      </td>\n",
       "      \n",
       "      <td>\n",
       "        2.200000\n",
       "      </td>\n",
       "      \n",
       "      <td>\n",
       "        3.300000\n",
       "      </td>\n",
       "      \n",
       "      <td>\n",
       "        4.400000\n",
       "      </td>\n",
       "      \n",
       "      <td>\n",
       "        5.500000\n",
       "      </td>\n",
       "      \n",
       "      <td>\n",
       "        6.600000\n",
       "      </td>\n",
       "      \n",
       "      </tr>\n",
       "      </tbody>\n",
       "    </table>\n",
       "    "
      ],
      "text/plain": [
       "R object with classes: ('matrix',) mapped to:\n",
       "<Matrix - Python:0x000002388C4764C8 / R:0x000002388A6A6AA0>\n",
       "[1.100000, 2.200000, 3.300000, 4.400000, 5.500000, 6.600000]"
      ]
     },
     "execution_count": 7,
     "metadata": {},
     "output_type": "execute_result"
    }
   ],
   "source": [
    "v = robjects.FloatVector([1.1, 2.2, 3.3, 4.4, 5.5, 6.6])\n",
    "m = robjects.r['matrix'](v, nrow=2)\n",
    "print(m)\n",
    "m"
   ]
  },
  {
   "cell_type": "code",
   "execution_count": 8,
   "metadata": {},
   "outputs": [
    {
     "data": {
      "text/plain": [
       "'c(1.1, 2.2, 3.3)'"
      ]
     },
     "execution_count": 8,
     "metadata": {},
     "output_type": "execute_result"
    }
   ],
   "source": [
    "res.r_repr()"
   ]
  },
  {
   "cell_type": "markdown",
   "metadata": {},
   "source": [
    "## make c() to list"
   ]
  },
  {
   "cell_type": "code",
   "execution_count": 17,
   "metadata": {},
   "outputs": [],
   "source": [
    "list_i = [i for i in res]"
   ]
  },
  {
   "cell_type": "code",
   "execution_count": 18,
   "metadata": {},
   "outputs": [
    {
     "data": {
      "text/plain": [
       "[1.1, 2.2, 3.3]"
      ]
     },
     "execution_count": 18,
     "metadata": {},
     "output_type": "execute_result"
    }
   ],
   "source": [
    "list_i"
   ]
  },
  {
   "cell_type": "markdown",
   "metadata": {},
   "source": [
    "## install R library"
   ]
  },
  {
   "cell_type": "code",
   "execution_count": 22,
   "metadata": {},
   "outputs": [
    {
     "data": {
      "text/plain": [
       "rpy2.rinterface.NULL"
      ]
     },
     "execution_count": 22,
     "metadata": {},
     "output_type": "execute_result"
    }
   ],
   "source": [
    "from rpy2.robjects.packages import importr\n",
    "\n",
    "utils = importr(\"utils\")\n",
    "\n",
    "package_name = 'KoNLP'\n",
    "utils.install_packages(package_name)"
   ]
  },
  {
   "cell_type": "code",
   "execution_count": 24,
   "metadata": {},
   "outputs": [
    {
     "data": {
      "text/plain": [
       "R object with classes: ('function',) mapped to:\n",
       "<DocumentedSTFunction - Python:0x0000023889A69148 / R:0x0000023888CD59B0>"
      ]
     },
     "execution_count": 24,
     "metadata": {},
     "output_type": "execute_result"
    }
   ],
   "source": [
    "utils.data"
   ]
  },
  {
   "cell_type": "code",
   "execution_count": 28,
   "metadata": {},
   "outputs": [],
   "source": [
    "konlp = importr('KoNLP')"
   ]
  },
  {
   "cell_type": "code",
   "execution_count": 29,
   "metadata": {},
   "outputs": [
    {
     "data": {
      "text/plain": [
       "rpy2.rinterface.NULL"
      ]
     },
     "execution_count": 29,
     "metadata": {},
     "output_type": "execute_result"
    }
   ],
   "source": [
    "konlp.useNIADic()"
   ]
  },
  {
   "cell_type": "code",
   "execution_count": 39,
   "metadata": {},
   "outputs": [],
   "source": [
    "sentence = '동해물과 백수산이 마르고 닳도록 하느님이 보우하사 우리나라 만세'"
   ]
  },
  {
   "cell_type": "code",
   "execution_count": 49,
   "metadata": {},
   "outputs": [
    {
     "data": {
      "text/html": [
       "\n",
       "    <span>ListVector with 2 elements.</span>\n",
       "    <table>\n",
       "      <tbody>\n",
       "      \n",
       "      <tr>\n",
       "      <th>\n",
       "        동해물\n",
       "      </th>\n",
       "      <td>\n",
       "        \n",
       "    <span>StrVector with 3 elements.</span>\n",
       "    <table>\n",
       "      <tbody>\n",
       "      <tr>\n",
       "      \n",
       "      <td>\n",
       "        '동해물/ncn'\n",
       "      </td>\n",
       "      \n",
       "      <td>\n",
       "        '동해/ncn+물/ncn'\n",
       "      </td>\n",
       "      \n",
       "      <td>\n",
       "        '동/xp+해물/ncn'\n",
       "      </td>\n",
       "      \n",
       "      </tr>\n",
       "      </tbody>\n",
       "    </table>\n",
       "    \n",
       "      </td>\n",
       "      </tr>\n",
       "      \n",
       "      <tr>\n",
       "      <th>\n",
       "        과\n",
       "      </th>\n",
       "      <td>\n",
       "        \n",
       "    <span>StrVector with 4 elements.</span>\n",
       "    <table>\n",
       "      <tbody>\n",
       "      <tr>\n",
       "      \n",
       "      <td>\n",
       "        '과/ncn'\n",
       "      </td>\n",
       "      \n",
       "      <td>\n",
       "        '고/pvg+아/e...\n",
       "      </td>\n",
       "      \n",
       "      <td>\n",
       "        '고/pvg+아/e...\n",
       "      </td>\n",
       "      \n",
       "      <td>\n",
       "        '고/pvg+아/ef'\n",
       "      </td>\n",
       "      \n",
       "      </tr>\n",
       "      </tbody>\n",
       "    </table>\n",
       "    \n",
       "      </td>\n",
       "      </tr>\n",
       "      \n",
       "      </tbody>\n",
       "    </table>\n",
       "    "
      ],
      "text/plain": [
       "R object with classes: ('list',) mapped to:\n",
       "<ListVector - Python:0x0000023889B13248 / R:0x00000238B6127B98>\n",
       "[StrVector, StrVector]\n",
       "  동해물: <class 'rpy2.robjects.vectors.StrVector'>\n",
       "  R object with classes: ('character',) mapped to:\n",
       "<StrVector - Python:0x000002388980FF48 / R:0x00000238BC06BA88>\n",
       "['동해물/ncn', '동해/ncn+물/ncn', '동/xp+해물/ncn']\n",
       "  과: <class 'rpy2.robjects.vectors.StrVector'>\n",
       "  R object with classes: ('character',) mapped to:\n",
       "<StrVector - Python:0x0000023889808608 / R:0x00000238BC06BC68>\n",
       "['과/ncn', '고/pvg+아/e..., '고/pvg+아/e..., '고/pvg+아/ef']"
      ]
     },
     "execution_count": 49,
     "metadata": {},
     "output_type": "execute_result"
    }
   ],
   "source": [
    "morph = konlp.MorphAnalyzer(sentence[:4])\n",
    "morph"
   ]
  },
  {
   "cell_type": "code",
   "execution_count": 44,
   "metadata": {},
   "outputs": [],
   "source": [
    "noun = konlp.extractNoun(sentence)"
   ]
  },
  {
   "cell_type": "code",
   "execution_count": 47,
   "metadata": {},
   "outputs": [
    {
     "data": {
      "text/plain": [
       "['동해', '물', '백수산', '하느님', '보우', '하사', '우리나라', '세']"
      ]
     },
     "execution_count": 47,
     "metadata": {},
     "output_type": "execute_result"
    }
   ],
   "source": [
    "[i for i in noun]"
   ]
  },
  {
   "cell_type": "code",
   "execution_count": 41,
   "metadata": {},
   "outputs": [
    {
     "data": {
      "text/html": [
       "\n",
       "    <span>StrVector with 9 elements.</span>\n",
       "    <table>\n",
       "      <tbody>\n",
       "      <tr>\n",
       "      \n",
       "      <td>\n",
       "        '백수산/ncn+...\n",
       "      </td>\n",
       "      \n",
       "      <td>\n",
       "        '백수산/ncn+...\n",
       "      </td>\n",
       "      \n",
       "      <td>\n",
       "        '백수산/ncn+...\n",
       "      </td>\n",
       "      \n",
       "      <td>\n",
       "        '백수/ncn+산...\n",
       "      </td>\n",
       "      \n",
       "      <td>\n",
       "        ...\n",
       "      </td>\n",
       "      \n",
       "      <td>\n",
       "        '백수/ncn+산...\n",
       "      </td>\n",
       "      \n",
       "      <td>\n",
       "        '백/xp+수산/...\n",
       "      </td>\n",
       "      \n",
       "      <td>\n",
       "        '백/xp+수산/...\n",
       "      </td>\n",
       "      \n",
       "      <td>\n",
       "        '백/xp+수산/...\n",
       "      </td>\n",
       "      \n",
       "      </tr>\n",
       "      </tbody>\n",
       "    </table>\n",
       "    "
      ],
      "text/plain": [
       "R object with classes: ('character',) mapped to:\n",
       "<StrVector - Python:0x00000238897FF5C8 / R:0x00000238AABD4B20>\n",
       "['백수산/ncn+..., '백수산/ncn+..., '백수산/ncn+..., '백수/ncn+산..., ..., '백수/ncn+산..., '백/xp+수산/..., '백/xp+수산/..., '백/xp+수산/...]"
      ]
     },
     "execution_count": 41,
     "metadata": {},
     "output_type": "execute_result"
    }
   ],
   "source": [
    "morph[0]"
   ]
  }
 ],
 "metadata": {
  "kernelspec": {
   "display_name": "text3.5",
   "language": "python",
   "name": "text3.5"
  },
  "language_info": {
   "codemirror_mode": {
    "name": "ipython",
    "version": 3
   },
   "file_extension": ".py",
   "mimetype": "text/x-python",
   "name": "python",
   "nbconvert_exporter": "python",
   "pygments_lexer": "ipython3",
   "version": "3.5.5"
  }
 },
 "nbformat": 4,
 "nbformat_minor": 2
}
